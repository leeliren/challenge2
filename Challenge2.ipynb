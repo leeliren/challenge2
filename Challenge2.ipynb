{
 "cells": [
  {
   "cell_type": "code",
   "execution_count": 57,
   "metadata": {
    "collapsed": false
   },
   "outputs": [
    {
     "name": "stdout",
     "output_type": "stream",
     "text": [
      "Starting num =  20\n",
      "Enter number 1~3: 19\n",
      "1  left\n",
      "computer removed:  3\n",
      "0  left\n",
      "You  won\n"
     ]
    }
   ],
   "source": [
    "''' \n",
    "Write a program for a game where the computer generates a\n",
    "random starting number between 20 and 30.\n",
    "The player and the computer can remove 1,2 or 3 from the number\n",
    "in turns. Something like this:\n",
    "\n",
    "Starting number: 25\n",
    "How many do you want to remove? 3\n",
    "22 left\n",
    "Computer removes 2\n",
    "20 left\n",
    "...\n",
    "\n",
    "The player who has to remove the last value to bring the number\n",
    "down to 0 is the loser.\n",
    "\n",
    "1 left\n",
    "Computer removes 1\n",
    "You win!\n",
    "\n",
    "Easy: Get the computer to choose a number between 1—3 at random. \n",
    "'''\n",
    "import random\n",
    "def game():\n",
    "    num = random.randint(20,30)\n",
    "    print(\"Starting num = \", num)\n",
    "    player = None\n",
    "    for i in range (num):\n",
    "        if num>1:\n",
    "            player = \"Computer\"\n",
    "            human = int(input(\"Enter number 1~3: \"))\n",
    "            num-=human\n",
    "            \n",
    "            if num == 0:\n",
    "                print(\"O left\")\n",
    "                print(\"you lose\")\n",
    "                break\n",
    "            else:\n",
    "                print(num, \" left\")\n",
    "            \n",
    "            player = \"You\"\n",
    "            com = random.randint(1,3)\n",
    "            num-=com\n",
    "            if num <= 0:\n",
    "                num = 0\n",
    "            print(\"computer removed: \", com)\n",
    "            print(num,\" left\")\n",
    "        else:\n",
    "            print(player, \" won\")\n",
    "            break\n",
    "        \n",
    "game()\n",
    "        \n",
    "        \n",
    "    \n"
   ]
  },
  {
   "cell_type": "code",
   "execution_count": 1,
   "metadata": {
    "collapsed": false
   },
   "outputs": [
    {
     "name": "stdout",
     "output_type": "stream",
     "text": [
      "Starting num =  28\n",
      "Enter number 1~3: 3\n",
      "25  left\n",
      "computer removed:  1\n",
      "24  left\n",
      "Enter number 1~3: 1\n",
      "23  left\n",
      "computer removed:  2\n",
      "21  left\n",
      "Enter number 1~3: 2\n",
      "19  left\n",
      "computer removed:  2\n",
      "17  left\n",
      "Enter number 1~3: 3\n",
      "14  left\n",
      "computer removed:  1\n",
      "13  left\n",
      "Enter number 1~3: 4\n",
      "9  left\n",
      "computer removed:  1\n",
      "8  left\n",
      "Enter number 1~3: 5\n",
      "3  left\n",
      "computer removed:  2\n",
      "1  left\n",
      "Enter number 1~3: 1\n",
      "O left\n",
      "you lose\n"
     ]
    }
   ],
   "source": [
    "''' \n",
    "Write a program for a game where the computer generates a\n",
    "random starting number between 20 and 30.\n",
    "The player and the computer can remove 1,2 or 3 from the number\n",
    "in turns. Something like this:\n",
    "\n",
    "Starting number: 25\n",
    "How many do you want to remove? 3\n",
    "22 left\n",
    "Computer removes 2\n",
    "20 left\n",
    "...\n",
    "\n",
    "The player who has to remove the last value to bring the number\n",
    "down to 0 is the loser.\n",
    "\n",
    "1 left\n",
    "Computer removes 1\n",
    "You win!\n",
    "\n",
    "Hard: Get the computer to employ a strategy to try and win. \n",
    "'''\n",
    "import random\n",
    "def game():\n",
    "    num = random.randint(20,30)\n",
    "    print(\"Starting num = \", num)\n",
    "    for i in range (num):\n",
    "        if num>0:\n",
    "            human = int(input(\"Enter number 1~3: \"))\n",
    "            num-=human\n",
    "            if num == 0:\n",
    "                print(\"O left\")\n",
    "                print(\"you lose\")\n",
    "                break\n",
    "            else:\n",
    "                print(num, \" left\")\n",
    "\n",
    "            for i in range (0,num//4 +1):\n",
    "                if num == i*4:\n",
    "                    com = 3\n",
    "                elif num == 3 + (i*4):\n",
    "                    com = 2\n",
    "                elif num == 2 + (i*4):\n",
    "                    com = 1\n",
    "                elif num == 1 + (i*4):\n",
    "                    com = 1\n",
    "            num-=com\n",
    "            print(\"computer removed: \", com)\n",
    "            print(num,\" left\")\n",
    "        else:\n",
    "            print(\"CONGRATS YOU WIN\")\n",
    "            break\n",
    "        \n",
    "game()\n"
   ]
  },
  {
   "cell_type": "code",
   "execution_count": 1,
   "metadata": {
    "collapsed": false
   },
   "outputs": [
    {
     "name": "stdout",
     "output_type": "stream",
     "text": [
      "[7, 10, 6, 2, 10, 8, 4, 10, 3, 3]\n",
      "current number:  7\n",
      "guess higher or lower: H\n",
      "current number:  10\n",
      "guess higher or lower: L\n",
      "current number:  6\n",
      "guess higher or lower: L\n",
      "current number:  2\n",
      "guess higher or lower: H\n",
      "current number:  10\n",
      "guess higher or lower: L\n",
      "current number:  8\n",
      "guess higher or lower: L\n",
      "current number:  4\n",
      "guess higher or lower: H\n",
      "current number:  10\n",
      "guess higher or lower: L\n",
      "current number:  3\n",
      "guess higher or lower: H\n",
      "you lose\n"
     ]
    }
   ],
   "source": [
    "'''\n",
    "Write a program for a Higher / Lower guessing game.\n",
    "The computer randomly generates a sequence of up to 10 numbers\n",
    "between 1 and 13. The player after seeing each number in turn\n",
    "has to decide whether the next number is higher or lower.\n",
    "If you get 10 guesses right you win the game.\n",
    "\n",
    "Starting number : 12\n",
    "Higher(H) or lower(L)? L\n",
    "Next number 8\n",
    "Higher(H) or lower(L)? L\n",
    "Next number 11\n",
    "You lose\n",
    "\n",
    "Hints\n",
    "- Use a condition controlled loop (do until, while etc) to control the\n",
    "game.\n",
    "- You do not need to remember all 10 numbers, but  just the current and\n",
    "the next number.\n",
    "- Remember to keep a count of the number of guesses. \n",
    "'''\n",
    "import random\n",
    "count = 0\n",
    "array = []\n",
    "for i in range (10):\n",
    "    num = random.randint(1,13)\n",
    "    array.append(num)\n",
    "print(array)\n",
    "for i in range (10):    \n",
    "    \n",
    "    print(\"current number: \", array[i] )\n",
    "    guess = input(\"guess higher or lower: \")\n",
    "    if guess == \"H\" and array[i] <array[i+1] or guess == \"L\" and array[i]>array[i+1]:\n",
    "        \n",
    "        count+=1\n",
    "        if count == 10:\n",
    "            print(\"you win\")\n",
    "            break\n",
    "    else:\n",
    "        print(\"you lose\")\n",
    "        break\n"
   ]
  },
  {
   "cell_type": "code",
   "execution_count": 10,
   "metadata": {
    "collapsed": false
   },
   "outputs": [
    {
     "name": "stdout",
     "output_type": "stream",
     "text": [
      "[1, 9, 12, 6, 4, 8, 2, 12, 5, 3]\n",
      "current number:  1\n",
      "guess higher or lower: H\n",
      "current number:  9\n",
      "guess higher or lower: H\n",
      "current number:  12\n",
      "guess higher or lower: L\n",
      "current number:  6\n",
      "guess higher or lower: H\n",
      "wrong!  2  live(s) left\n",
      "current number:  4\n",
      "guess higher or lower: L\n",
      "wrong!  1  live(s) left\n",
      "current number:  8\n",
      "guess higher or lower: H\n",
      "you lose\n"
     ]
    }
   ],
   "source": [
    "'''\n",
    "Extend the above Higher / Lower number guessing game by\n",
    "- Giving the player two lives\n",
    "- Allowing only H or L to be entered \n",
    "'''\n",
    "import random\n",
    "count = 0\n",
    "array = []\n",
    "for i in range (10):\n",
    "    num = random.randint(1,13)\n",
    "    array.append(num)\n",
    "print(array)\n",
    "lives = 2\n",
    "for i in range (10):    \n",
    "    \n",
    "    print(\"current number: \", array[i] )\n",
    "    guess = input(\"guess higher or lower: \")\n",
    "    if lives >0:\n",
    "        if guess == \"H\" and array[i] <array[i+1] or guess == \"L\" and array[i]>array[i+1]:\n",
    "\n",
    "            count+=1\n",
    "            if count == 10:\n",
    "                print(\"you win\")\n",
    "                break\n",
    "        else:\n",
    "            lives-=1\n",
    "            print(\"wrong! \", lives+1, \" live(s) left\")\n",
    "            \n",
    "    else:\n",
    "        print(\"you lose\")\n",
    "        break\n"
   ]
  },
  {
   "cell_type": "code",
   "execution_count": 11,
   "metadata": {
    "collapsed": false
   },
   "outputs": [
    {
     "name": "stdout",
     "output_type": "stream",
     "text": [
      "enter sentence: hello how are you\n",
      "contains  4  words\n"
     ]
    }
   ],
   "source": [
    "'''\n",
    "Write a program to count the number of words in a sentence.\n",
    "The user enters a sentence.\n",
    "The program outputs the number of words in the sentence.\n",
    "Hint: Look for spaces and full stops in the string. \n",
    "'''\n",
    "\n",
    "string = input(\"enter sentence: \")\n",
    "spaces = 0\n",
    "for i in string:\n",
    "    if i == \" \":\n",
    "        spaces+=1\n",
    "print(\"contains \", spaces+1, \" words\")\n"
   ]
  },
  {
   "cell_type": "code",
   "execution_count": 1,
   "metadata": {
    "collapsed": false
   },
   "outputs": [
    {
     "name": "stdout",
     "output_type": "stream",
     "text": [
      "enter sentence: hello how are you\n",
      "uoy era woh olleh"
     ]
    }
   ],
   "source": [
    "'''\n",
    "Write a program that will display a sentence backwards after being entered.\n",
    "Note: You may not use the Python list reverse() function. ;)\n",
    "'''\n",
    "string = input(\"enter sentence: \")\n",
    "for i in range (len(string)-1,-1,-1):\n",
    "    print(string[i], end =\"\")\n",
    "    \n",
    "    "
   ]
  },
  {
   "cell_type": "code",
   "execution_count": null,
   "metadata": {
    "collapsed": true
   },
   "outputs": [],
   "source": []
  }
 ],
 "metadata": {
  "kernelspec": {
   "display_name": "Python 3",
   "language": "python",
   "name": "python3"
  },
  "language_info": {
   "codemirror_mode": {
    "name": "ipython",
    "version": 3
   },
   "file_extension": ".py",
   "mimetype": "text/x-python",
   "name": "python",
   "nbconvert_exporter": "python",
   "pygments_lexer": "ipython3",
   "version": "3.5.1"
  }
 },
 "nbformat": 4,
 "nbformat_minor": 2
}
